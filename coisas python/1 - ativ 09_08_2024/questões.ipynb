{
 "cells": [
  {
   "cell_type": "code",
   "execution_count": 1,
   "metadata": {},
   "outputs": [
    {
     "name": "stdout",
     "output_type": "stream",
     "text": [
      "Olá Mundo! \n"
     ]
    }
   ],
   "source": [
    "'''\n",
    "        1. Olá, Mundo! \n",
    "    Escreva um programa que imprime \"Olá, Mundo!\" na tela.\n",
    "'''\n",
    "\n",
    "print('Olá Mundo! ')"
   ]
  },
  {
   "cell_type": "code",
   "execution_count": 2,
   "metadata": {},
   "outputs": [],
   "source": [
    "''' \n",
    "        2. Soma de Dois Números \n",
    "    Peça ao usuário para digitar dois números e imprima a soma deles.\n",
    "'''\n",
    "n1 =int(input('Diga um número: '))\n",
    "n2 = int(input('Diga outro número: '))\n",
    "soma = n1 + n2\n",
    "print(soma)"
   ]
  },
  {
   "cell_type": "code",
   "execution_count": null,
   "metadata": {},
   "outputs": [],
   "source": [
    "''' \n",
    "        3. Verificar Par ou Ímpar \n",
    "    Peça ao usuário para digitar um número inteiro e informe se o número é par ou ímpar.\n",
    "'''\n",
    "\n",
    "n = int(input('Digite um número inteiro: '))\n",
    "if n % 2 == 0:\n",
    "    print('Número Par. ')\n",
    "else:\n",
    "    print('Número Ímpar. ')"
   ]
  },
  {
   "cell_type": "code",
   "execution_count": null,
   "metadata": {},
   "outputs": [],
   "source": [
    "'''\n",
    "        4. Calculadora Simples \n",
    "    Crie um programa que peça dois números e a operação desejada (+, -, *, /) e exiba o resultado.\n",
    "'''\n",
    "\n",
    "n1 = int(input('Digite um número: '))\n",
    "n2 = int(input('Digite outro número: '))\n",
    "\n",
    "soma = n1 + n2\n",
    "subtr = n1 - n2\n",
    "mult = n1 * n2\n",
    "div = n1 / n2\n",
    "\n",
    "print(f'Soma: {soma}\\nSubtração: {subtr}\\nMultiplicação: {mult}\\nDivisão: {div:.2f}')"
   ]
  },
  {
   "cell_type": "code",
   "execution_count": null,
   "metadata": {},
   "outputs": [],
   "source": [
    "'''\n",
    "        5. Média de Notas \n",
    "    Peça ao usuário para digitar três notas e calcule a média delas.\n",
    "'''\n",
    "\n",
    "n1 = int(input('Digite a primeira nota: '))\n",
    "n2 = int(input('Digite a segunda nota: '))\n",
    "n3 = int(input('Digite a terceira nota: '))\n",
    "\n",
    "media = (n1 + n2 + n3) / 2\n",
    "print(f'A média das notas é: {media}')"
   ]
  },
  {
   "cell_type": "code",
   "execution_count": null,
   "metadata": {},
   "outputs": [],
   "source": [
    "'''\n",
    "        6. Converter Celsius para Fahrenheit \n",
    "    Escreva um programa que converta uma temperatura de graus Celsius para Fahrenheit.\n",
    "'''\n",
    "\n",
    "cel = int(input('Diga uma temperatura em Celsius: '))\n",
    "fah = (cel * 1.8) + 32\n",
    "\n",
    "print(f'Essa temperatura convertida para Fahreinheit é: {fah}')"
   ]
  },
  {
   "cell_type": "code",
   "execution_count": null,
   "metadata": {},
   "outputs": [],
   "source": [
    "'''\n",
    "        7. Fatorial de um Número \n",
    "    Peça ao usuário para digitar um número e calcule o fatorial desse número.\n",
    "'''\n",
    "\n",
    "def fator():\n",
    "    n = int(input('Digite um valor inteiro: '))\n",
    "    fat = 1\n",
    "    i = 2\n",
    "    while i <= n:\n",
    "        fat = fat*i\n",
    "        i = i + 1\n",
    "\n",
    "    print(f'O fatorial de {n} é: {fat}')\n",
    "\n",
    "fator()"
   ]
  },
  {
   "cell_type": "code",
   "execution_count": null,
   "metadata": {},
   "outputs": [],
   "source": [
    "'''\n",
    "       8. Contagem de Números Ímpares \n",
    "    Escreva um programa que conta e imprime todos os números ímpares entre 1 e 100.\n",
    "'''\n",
    "\n",
    "impar = []\n",
    "\n",
    "for n in range(1, 101):\n",
    "    if n % 2 != 0:\n",
    "        impar.append(n)\n",
    "\n",
    "quant = len(impar)\n",
    "print(f'Há {quant} números ímpares e eles serão listados abaixo: ')\n",
    "for n1 in impar:\n",
    "    print(n1)\n"
   ]
  },
  {
   "cell_type": "code",
   "execution_count": null,
   "metadata": {},
   "outputs": [],
   "source": [
    "'''\n",
    "       9. Verificar Número Primo \n",
    "    Peça ao usuário para digitar um número e verifique se ele é primo.\n",
    "'''\n",
    "\n",
    "n = int(input('Diga um número: '))\n",
    "if n > 1:\n",
    "    for i in range(2, n):\n",
    "        if n % i == 0:\n",
    "            print(f'{n} não é primo. ')\n",
    "            break\n",
    "    else:\n",
    "        print(f'{n} é primo. ')\n"
   ]
  },
  {
   "cell_type": "code",
   "execution_count": null,
   "metadata": {},
   "outputs": [],
   "source": [
    "'''\n",
    "        10. Inverter uma String \n",
    "    Peça ao usuário para digitar uma string e imprima essa string de forma invertida.\n",
    "'''\n",
    "\n",
    "\n",
    "string = input('Digite uma string: ')\n",
    "\n",
    "string_inv = string[::-1]\n",
    "\n",
    "print(f'A string invertida é: {string_inv} ')"
   ]
  },
  {
   "cell_type": "code",
   "execution_count": null,
   "metadata": {},
   "outputs": [],
   "source": [
    "'''\n",
    "        11. Tabuada \n",
    "    Peça ao usuário para digitar um número e imprima a tabuada desse número de 1 a 10.\n",
    "'''\n",
    "\n",
    "n = int(input('Digite um número: '))\n",
    "\n",
    "for i in range(1, 11):\n",
    "    n1 = n * i\n",
    "    print(f'{n} . {i} = {n1} ')"
   ]
  },
  {
   "cell_type": "code",
   "execution_count": null,
   "metadata": {},
   "outputs": [],
   "source": [
    "'''\n",
    "        12. Contar Vogais em uma String \n",
    "    Escreva um programa que conte o número de vogais em uma string fornecida pelo usuário.\n",
    "'''\n",
    "\n",
    "vogais= \"aeiouAEIOU\"\n",
    "quant = input('Digite algo: ')\n",
    "contador = 0\n",
    "\n",
    "for carac in quant:\n",
    "    if carac in vogais:\n",
    "        contador += 1\n",
    "\n",
    "print(f'O número de vogais é: {contador} ')"
   ]
  },
  {
   "cell_type": "code",
   "execution_count": null,
   "metadata": {},
   "outputs": [],
   "source": [
    "'''\n",
    "        13. Soma dos Elementos de uma Lista \n",
    "    Crie uma lista de números e escreva um programa que some todos os elementos dessa lista.\n",
    "'''\n",
    "\n",
    "\n",
    "n = [4, 8, 15, 16, 23, 42]\n",
    "soma = 0\n",
    "\n",
    "for num in n:\n",
    "    soma += num\n",
    "\n",
    "print(f'A soma dos números da lista é: {soma}')\n"
   ]
  },
  {
   "cell_type": "code",
   "execution_count": null,
   "metadata": {},
   "outputs": [],
   "source": [
    "'''\n",
    "        14. Encontrar o Maior Número em uma Lista \n",
    "    Peça ao usuário para digitar uma lista de números e exiba o maior número dessa lista.\n",
    "'''\n",
    "\n",
    "nums = input('Diga alguns números e os separe com espaço: ')\n",
    "n = list(map(int, nums.split()))\n",
    "maior_num = max(n)\n",
    "print(f'O maior número da lista é: {maior_num} ')"
   ]
  },
  {
   "cell_type": "code",
   "execution_count": null,
   "metadata": {},
   "outputs": [],
   "source": [
    "'''\n",
    "        15. Números Pares em uma Lista \n",
    "    Dada uma lista de números, crie um programa que exiba apenas os números pares.\n",
    "'''\n",
    "\n",
    "\n",
    "nums = input('Diga alguns números e os separe em espaço: ')\n",
    "n = list(map(int, nums.split()))\n",
    "num_par = []\n",
    "for num in n:\n",
    "    if num % 2 == 0:\n",
    "        num_par.append(num)\n",
    "print(f'Os números pares da lista são: {num_par} ')"
   ]
  },
  {
   "cell_type": "code",
   "execution_count": 1,
   "metadata": {},
   "outputs": [
    {
     "name": "stdout",
     "output_type": "stream",
     "text": [
      "10\n",
      "9\n",
      "8\n",
      "7\n",
      "6\n",
      "5\n",
      "4\n",
      "3\n",
      "2\n",
      "1\n",
      "0\n"
     ]
    }
   ],
   "source": [
    "'''\n",
    "        16. Contagem Regressiva \n",
    "    Escreva um programa que faça uma contagem regressiva de 10 a 0, imprimindo os números na tela.\n",
    "'''\n",
    "\n",
    "v = 10\n",
    "while v >= 0 and v <= 10:\n",
    "    print(v)\n",
    "    v = (v-1)"
   ]
  },
  {
   "cell_type": "code",
   "execution_count": null,
   "metadata": {},
   "outputs": [],
   "source": [
    "'''\n",
    "        17. Calculando a Sequência de Fibonacci \n",
    "    Escreva um programa que gera os primeiros 10 números da sequência de Fibonacci.\n",
    "'''\n",
    "\n",
    "fib = [0, 1]\n",
    "for i in range(8):\n",
    "    num = fib[-1] + fib[-2]\n",
    "    fib.append(num)\n",
    "print('Os 10 primeiros números de Fibonacci são: ')\n",
    "print(fib)\n"
   ]
  },
  {
   "cell_type": "code",
   "execution_count": null,
   "metadata": {},
   "outputs": [],
   "source": [
    "'''\n",
    "        18. Simulação de Lançamento de Moeda \n",
    "    Crie um programa que simule o lançamento de uma moeda (cara ou coroa) e exiba o resultado.\n",
    "'''\n",
    "\n",
    "import random\n",
    "\n",
    "lista = random.choice(['Cara', 'Coroa'])\n",
    "print(lista)"
   ]
  },
  {
   "cell_type": "code",
   "execution_count": null,
   "metadata": {},
   "outputs": [],
   "source": [
    "'''\n",
    "        19. Verificar Palíndromo \n",
    "    Peça ao usuário para digitar uma palavra e verifique se ela é um palíndromo (lê-se da mesma forma de trás para frente).\n",
    "'''\n",
    "\n",
    "p = input('Digite uma palavra: ')\n",
    "palin = p == p[::-1]\n",
    "if palin:\n",
    "    print(f'A palavra \"{p}\" é um palíndromo. ')\n",
    "else:\n",
    "    print(f'A palavra \"{p}\" não é um palíndromo. ')"
   ]
  },
  {
   "cell_type": "code",
   "execution_count": null,
   "metadata": {},
   "outputs": [],
   "source": [
    "'''\n",
    "        20. Jogo de Adivinhação \n",
    "    Crie um programa onde o computador escolhe um número aleatório entre 1 e 100 e o usuário deve tentar adivinhar o número. \n",
    "    O programa deve dar dicas se o número escolhido é maior ou menor que a tentativa do usuário.\n",
    "'''\n",
    "\n",
    "import random\n",
    "\n",
    "num = random.randint(1, 100)\n",
    "print('Um número aleatorio foi gerado.')\n",
    "while True:\n",
    "    resp = int(input('Digite o número: '))\n",
    "    if resp > num:\n",
    "        print('O número é menor que esse. ')\n",
    "        continue\n",
    "    elif resp < num:\n",
    "        print('O número é maior que esse. ')\n",
    "        continue\n",
    "    else:\n",
    "        print(f'O número foi {num}. Você acertou!')"
   ]
  }
 ],
 "metadata": {
  "kernelspec": {
   "display_name": "Python 3",
   "language": "python",
   "name": "python3"
  },
  "language_info": {
   "codemirror_mode": {
    "name": "ipython",
    "version": 3
   },
   "file_extension": ".py",
   "mimetype": "text/x-python",
   "name": "python",
   "nbconvert_exporter": "python",
   "pygments_lexer": "ipython3",
   "version": "3.12.4"
  }
 },
 "nbformat": 4,
 "nbformat_minor": 2
}
