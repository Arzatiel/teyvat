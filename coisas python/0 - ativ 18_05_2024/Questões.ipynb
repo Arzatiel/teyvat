{
 "cells": [
  {
   "cell_type": "code",
   "execution_count": null,
   "metadata": {},
   "outputs": [
    {
     "name": "stdout",
     "output_type": "stream",
     "text": [
      "5\n",
      "6\n",
      "7\n",
      "8\n",
      "9\n",
      "10\n",
      "11\n",
      "12\n",
      "13\n",
      "14\n",
      "15\n",
      "16\n",
      "17\n",
      "18\n",
      "19\n",
      "20\n"
     ]
    }
   ],
   "source": [
    "'''\n",
    "Questão 1) \n",
    "\n",
    "a) Crie um programa que imprime os valores de 5 a 20.\n",
    "\n",
    "b) Crie um programa que imprime de 2 a 30, de dois em dois.\n",
    "'''\n",
    "\n",
    "# letra a\n",
    "\n",
    "v = 5\n",
    "while v >= 5 and v <= 20:\n",
    "    print(v)\n",
    "    v = (v+1)"
   ]
  },
  {
   "cell_type": "code",
   "execution_count": null,
   "metadata": {},
   "outputs": [],
   "source": [
    "#letra b\n",
    "\n",
    "v = 2\n",
    "while v >= 2 and v <= 30:\n",
    "    print(v)\n",
    "    v = (v+2)"
   ]
  },
  {
   "cell_type": "code",
   "execution_count": null,
   "metadata": {},
   "outputs": [],
   "source": [
    "'''\n",
    "Questão 2) Dado a lista a seguir:\n",
    "\n",
    "letras = ['a', 'b', 'c', 'd', 'e', 'f'']\n",
    "\n",
    "imprima os valores da seguinte forma:\n",
    "\n",
    "letra a\n",
    "\n",
    "letra b\n",
    "\n",
    "letra c\n",
    "\n",
    "letra d\n",
    "\n",
    "letra e\n",
    "'''\n",
    "letras = ['a', 'b', 'c', 'd', 'e']\n",
    "for i in letras:\n",
    "    print(f'letra {i}')"
   ]
  },
  {
   "cell_type": "code",
   "execution_count": null,
   "metadata": {},
   "outputs": [],
   "source": [
    "'''\n",
    "Questão 3) \n",
    "\n",
    "Crie um programa que imprime valores de 1 a 30. Sendo que se for divisível por 3 ele imprime Fizz. \n",
    "Se for divisivel por 5, Buzz. Se for divisivel por 3 e 5, FizzBuzz!\n",
    "'''\n",
    "\n",
    "v = 1\n",
    "for v in range(1, 31):\n",
    "    v1 = (v+1)\n",
    "    if v % 3 == 0 and v % 5 ==0:\n",
    "        print(f'{v} - FizzBuzz')\n",
    "    elif v % 3 == 0:\n",
    "        print(f'{v} - Fizz')\n",
    "    elif v % 5 == 0:\n",
    "        print(f'{v} - Buzz')\n",
    "    else:\n",
    "        print(v)\n",
    "\n",
    "    \n",
    "\n",
    "\n",
    "\n",
    "\n"
   ]
  },
  {
   "cell_type": "code",
   "execution_count": null,
   "metadata": {},
   "outputs": [],
   "source": [
    "'''\n",
    "Questão 4) \n",
    "\n",
    "Deverá ser criado um programa que fornece uma média ponderada de notas de um candidato:\n",
    "\n",
    "Cada fase terá um peso maior que a da primeira. Ao final será fornecido o resultado da média ponderada das notas. \n",
    "\n",
    "Exemplo. \n",
    "\n",
    "- Se são 3 fases. A primeira terá peso 1. A segunda peso 2. A terceira peso 3.\n",
    "\n",
    "- Se são 4 fases. A primeira terá peso 1. A segunda peso 2. A terceira peso 3.A quarta terá peso 4.\n",
    "\n",
    "Obs: Duvidas sobre o que é uma média ponderada ou como fazer, pesquise na internet como, para que possa aplicar neste problema. \n",
    "\n",
    "'''\n",
    "fases = int(input('Informe o número de fases: '))\n",
    "notas = []\n",
    "pesos = []\n",
    "\n",
    "for i in range(fases):\n",
    "    nota = float(input(f'Informe a nota da fase {i+1}: '))\n",
    "    notas.append(nota)\n",
    "    pesos.append(i+1)\n",
    "\n",
    "mp = 0\n",
    "soma_pesos = 0\n",
    "for i in range(fases):\n",
    "    mp += notas[i] * pesos[i]\n",
    "    soma_pesos += pesos[i]\n",
    "\n",
    "mp /= soma_pesos\n",
    "\n",
    "print(f'A Média Ponderada é: {mp:.2f} ')"
   ]
  },
  {
   "cell_type": "code",
   "execution_count": 1,
   "metadata": {},
   "outputs": [
    {
     "name": "stdout",
     "output_type": "stream",
     "text": [
      "Funcionário 1 vendeu 1 - Demitido. \n",
      "Funcionário 2 vendeu 100 - Parabéns!! \n",
      "Funcionário 3 vendeu 500 - Parabéns!! \n",
      "Funcionário 4 vendeu 200 - Parabéns!! \n",
      "Funcionário 5 vendeu 300 - Parabéns!! \n",
      "Funcionário 6 vendeu 90 - Demitido. \n",
      "Funcionário 7 vendeu 80 - Demitido. \n",
      "Funcionário 8 vendeu 500 - Parabéns!! \n",
      "Funcionário 9 vendeu 80 - Demitido. \n"
     ]
    }
   ],
   "source": [
    "'''\n",
    "Questão 5) Crie um programa que os funcionários que venderem menos que 100 unidades serão adicionados na lista de funcionários a serem demitidos.\n",
    "\n",
    "lista_de_vendas = [1, 100, 500, 200, 300, 90, 80, 500, 80] \n",
    "'''\n",
    "\n",
    "\n",
    "ldv = [1, 100, 500, 200, 300, 90, 80, 500, 80]\n",
    "func = 1\n",
    "\n",
    "for i in ldv:\n",
    "    if i < 100:\n",
    "        dem = print(f'Funcionário {func} vendeu {i} - Demitido. ')\n",
    "        func = (func + 1)\n",
    "    elif i <= 500:\n",
    "        print(f'Funcionário {func} vendeu {i} - Parabéns!! ')\n",
    "        func = (func + 1)"
   ]
  }
 ],
 "metadata": {
  "kernelspec": {
   "display_name": "base",
   "language": "python",
   "name": "python3"
  },
  "language_info": {
   "codemirror_mode": {
    "name": "ipython",
    "version": 3
   },
   "file_extension": ".py",
   "mimetype": "text/x-python",
   "name": "python",
   "nbconvert_exporter": "python",
   "pygments_lexer": "ipython3",
   "version": "3.12.2"
  }
 },
 "nbformat": 4,
 "nbformat_minor": 2
}
