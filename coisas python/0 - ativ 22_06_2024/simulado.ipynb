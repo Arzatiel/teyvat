{
 "cells": [
  {
   "cell_type": "code",
   "execution_count": 15,
   "metadata": {},
   "outputs": [
    {
     "name": "stdout",
     "output_type": "stream",
     "text": [
      "1\n",
      "2\n",
      "3\n",
      "4\n",
      "5\n",
      "6\n",
      "7\n",
      "8\n",
      "9\n",
      "10\n"
     ]
    }
   ],
   "source": [
    "'''\n",
    "Questão 1: (1/2)\n",
    "\n",
    "a) Imprima de 1 a 10 utilizando for :\n",
    "'''\n",
    "\n",
    "for i in range(1, 11):\n",
    "    print(i)"
   ]
  },
  {
   "cell_type": "code",
   "execution_count": 2,
   "metadata": {},
   "outputs": [
    {
     "name": "stdout",
     "output_type": "stream",
     "text": [
      "1\n",
      "2\n",
      "3\n",
      "4\n",
      "5\n",
      "6\n",
      "7\n",
      "8\n",
      "9\n",
      "10\n"
     ]
    }
   ],
   "source": [
    "'''\n",
    "Questão 1:(2/2)\n",
    "\n",
    "b) Imprima de 1 a 10 utilizando while :\n",
    "'''\n",
    "\n",
    "n = 0\n",
    "while n < 10:\n",
    "    n = (n+1)\n",
    "    print(n)"
   ]
  },
  {
   "cell_type": "code",
   "execution_count": 10,
   "metadata": {},
   "outputs": [
    {
     "name": "stdout",
     "output_type": "stream",
     "text": [
      "['Paciência', 'Black Hammer', 'Invencível', 'Umbrella Academy', 'Born again', 'Watchmen']\n"
     ]
    }
   ],
   "source": [
    "'''\n",
    "Questão 2:(1/2)\n",
    "\n",
    "quadrinhos = ['Paciência', 'Invencível', 'Umbrella Academy', 'Born again',\n",
    "'Watchmen']\n",
    "Dado a lista acima.\n",
    "a) Adicione o quadrinho 'Black Hammer' e imprima a nova lista # exatamente assim:\n",
    "Quadrinhos: Paciência, Black Hammer, Invencível, Umbrella Academy, Born again,\n",
    "Watchmen\n",
    "'''\n",
    "\n",
    "quad = ['Paciência', 'Invencível', 'Umbrella Academy', 'Born again',\n",
    "'Watchmen']\n",
    "quad.insert(1, 'Black Hammer')\n",
    "print(quad)"
   ]
  },
  {
   "cell_type": "code",
   "execution_count": 11,
   "metadata": {},
   "outputs": [
    {
     "name": "stdout",
     "output_type": "stream",
     "text": [
      "['Paciência', 'Black Hammer', 'Invencível', 'Umbrella Academy', 'Born again', 'Watchmen']\n",
      "['Black Hammer', 'Invencível', 'Umbrella Academy', 'Born again', 'Watchmen']\n"
     ]
    }
   ],
   "source": [
    "'''\n",
    "Questão 2:(2/2)\n",
    "\n",
    "quadrinhos = ['Paciência', 'Invencível', 'Umbrella Academy', 'Born again',\n",
    "'Watchmen']\n",
    "b)Remova a história em quadrinhos 'Paciência' e imprima novamente a lista\n",
    "'''\n",
    "\n",
    "quad = ['Paciência', 'Invencível', 'Umbrella Academy', 'Born again',\n",
    "'Watchmen']\n",
    "quad.insert(1, 'Black Hammer')\n",
    "print(quad)\n",
    "quad.remove('Paciência')\n",
    "print(quad)\n"
   ]
  },
  {
   "cell_type": "code",
   "execution_count": 21,
   "metadata": {},
   "outputs": [
    {
     "name": "stdout",
     "output_type": "stream",
     "text": [
      "Alberto: 10\n",
      "Bento: 8\n",
      "Carlos: 6\n",
      "Denis: 8\n",
      "Evaldo: 2\n",
      "Fabiano: 1\n"
     ]
    }
   ],
   "source": [
    "'''\n",
    "Questão 3:\n",
    "\n",
    "Abaixo temos duas listas. Uma com os nomes da lista e os outros com as notas:\n",
    "alunos = ['Alberto', 'Bento', 'Carlos', 'Denis', 'Evaldo', 'Fabiano']\n",
    "notas = [10, 8, 6, 8, 2, 1]\n",
    "Resultado esperado:\n",
    "Alberto: 10\n",
    "Bento: 8\n",
    "Carlos: 6\n",
    "Denis: 8\n",
    "Evaldo: 2\n",
    "Fabiano: 1\n",
    "'''\n",
    "alunos = ['Alberto', 'Bento', 'Carlos', 'Denis', 'Evaldo', 'Fabiano']\n",
    "notas = [10, 8, 6, 8, 2, 1]\n",
    "for i, alns in enumerate(alunos):\n",
    "    print(f'{alunos[i]}: {notas[i]}')\n"
   ]
  },
  {
   "cell_type": "code",
   "execution_count": 9,
   "metadata": {},
   "outputs": [
    {
     "name": "stdout",
     "output_type": "stream",
     "text": [
      "Alunos reprovados: 6\n",
      "Alunos aprovados: 7\n",
      "Média geral da turma: 6.08\n"
     ]
    }
   ],
   "source": [
    "'''\n",
    "Questão 4:\n",
    "\n",
    "Dado as informações de notas abaixo.\n",
    "notas = [0, 10, 10, 10, 9, 8, 5, 4, 2, 6, 6, 5, 4]\n",
    "a) Informe quantos alunos estão reprovados.\n",
    "b) Quantos alunos estão aprovados\n",
    "c) Média geral da turma.\n",
    "'''\n",
    "notas = [0, 10, 10, 10, 9, 8, 5, 4, 2, 6, 6, 5, 4]\n",
    "\n",
    "reprovados = sum(1 for nota in notas if nota < 6)\n",
    "print(f'Alunos reprovados: {reprovados}')\n",
    "\n",
    "aprovados = sum(1 for nota in notas if nota >= 6)\n",
    "print(f'Alunos aprovados: {aprovados}')\n",
    "\n",
    "soma = sum(notas)\n",
    "mg = soma / len(notas)\n",
    "print(f'Média geral da turma: {mg:.2f}')"
   ]
  },
  {
   "cell_type": "code",
   "execution_count": 1,
   "metadata": {},
   "outputs": [],
   "source": [
    "'''\n",
    "Questão 5:\n",
    "\n",
    "Crie um programa com while em que se o usuário não inserir a senha correta, será solicitado\n",
    "novamente a senha, até que o usuário acerte a senha\n",
    "senha = 'admin123'\n",
    "'''\n",
    "\n",
    "while True:\n",
    "    senha = 'admin123'\n",
    "    pergunta = input('Digite a senha: ')\n",
    "    if pergunta not in senha:\n",
    "        print('Tente Novamente')\n",
    "        continue\n",
    "    else:\n",
    "        print('Senha correta.')\n",
    "        break"
   ]
  },
  {
   "cell_type": "code",
   "execution_count": 1,
   "metadata": {},
   "outputs": [],
   "source": [
    "'''\n",
    "Questão 6:\n",
    "\n",
    "Crie uma função (def) em python que calcule e imprima a média de duas notas:\n",
    "'''\n",
    "\n",
    "nota1 = 7\n",
    "nota2 = 9\n",
    "def media(nota1, nota2):\n",
    "    med = (nota1 + nota2) / 2\n",
    "    print(f\"A média das notas {nota1} e {nota2} é: {med:.2f}\")\n",
    "\n",
    "media(nota1, nota2)"
   ]
  },
  {
   "cell_type": "code",
   "execution_count": 1,
   "metadata": {},
   "outputs": [],
   "source": [
    "'''\n",
    "Questão 7:\n",
    "\n",
    "Escreva um programa em Python que gere uma senha aleatória com as seguintes especificações:\n",
    "\n",
    "1. A senha deve conter dígitos numéricos (0-9), letras (maiúsculas e minúsculas) e\n",
    "caracteres especiais (por exemplo: !@#$%).\n",
    "\n",
    "2. A quantidade de cada tipo de caractere (dígitos, letras e caracteres especiais) deve ser\n",
    "aleatória, mas a senha deve ter pelo menos um de cada tipo.\n",
    "\n",
    "3. O usuário deve informar apenas o comprimento desejado para a senha.\n",
    "\n",
    "4. A senha gerada deve ser completamente aleatória, respeitando os requisitos acima.\n",
    "\n",
    "Por exemplo, se o usuário solicitar uma senha de 10 caracteres, o programa pode gerar:\n",
    "Senha: r5#Tz9@Kx9\n",
    "Se o usuário solicitar uma senha de 3 caracteres, o programa pode gerar:\n",
    "Senha: 2y#\n",
    "'''\n",
    "\n",
    "import random\n",
    "import string\n",
    "\n",
    "def senha(senha0):\n",
    "    if senha0 < 3:\n",
    "        raise ValueError('A senha deve possuir pelo menos 3 caracteres')\n",
    "    \n",
    "    num = string.digits\n",
    "    let_maius = string.ascii_uppercase\n",
    "    let_minus = string.ascii_lowercase\n",
    "    carac_esp = \"!@#$%&*\"\n",
    "    \n",
    "    senhas = [random.choice(num), random.choice(let_maius), random.choice(let_minus), random.choice(carac_esp)]\n",
    "    \n",
    "    all_carac = num + let_maius + let_minus + carac_esp\n",
    "    for _ in range(senha0 - 4):\n",
    "        senhas.append(random.choice(all_carac))\n",
    "    \n",
    "    random.shuffle(senhas)\n",
    "    \n",
    "    return ''.join(senhas)\n",
    "\n",
    "senha0 = int(input('Quantos caracteres a senha deve possuir? '))\n",
    "\n",
    "senha1 = senha(senha0)\n",
    "print(f'Senha gerada: {senha1}')"
   ]
  }
 ],
 "metadata": {
  "kernelspec": {
   "display_name": "Python 3",
   "language": "python",
   "name": "python3"
  },
  "language_info": {
   "codemirror_mode": {
    "name": "ipython",
    "version": 3
   },
   "file_extension": ".py",
   "mimetype": "text/x-python",
   "name": "python",
   "nbconvert_exporter": "python",
   "pygments_lexer": "ipython3",
   "version": "3.12.2"
  }
 },
 "nbformat": 4,
 "nbformat_minor": 2
}
