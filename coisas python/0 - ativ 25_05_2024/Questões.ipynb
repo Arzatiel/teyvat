{
 "cells": [
  {
   "cell_type": "code",
   "execution_count": 5,
   "metadata": {},
   "outputs": [
    {
     "name": "stdout",
     "output_type": "stream",
     "text": [
      "2\n",
      "4\n",
      "6\n",
      "8\n",
      "10\n",
      "12\n",
      "14\n",
      "16\n",
      "18\n",
      "20\n"
     ]
    }
   ],
   "source": [
    "'''\n",
    "1) Crie um programa que imprime de 2 a 20, sendo que ele\n",
    "deve imprimir de dois em dois.\n",
    "'''\n",
    "\n",
    "v = 2\n",
    "while v >= 2 and v <= 20:\n",
    "    print(v)\n",
    "    v = (v+2)"
   ]
  },
  {
   "cell_type": "code",
   "execution_count": 4,
   "metadata": {},
   "outputs": [
    {
     "name": "stdout",
     "output_type": "stream",
     "text": [
      "3\n",
      "6\n",
      "9\n",
      "12\n",
      "15\n"
     ]
    }
   ],
   "source": [
    "'''\n",
    "2) Crie um programa que imprime de 3 a 15, sendo que ele\n",
    "deve imprimir de 3 em 3.\n",
    "'''\n",
    "\n",
    "v = 3\n",
    "while v >= 3 and v <= 15:\n",
    "    print(v)\n",
    "    v = (v+3)"
   ]
  },
  {
   "cell_type": "code",
   "execution_count": 42,
   "metadata": {},
   "outputs": [
    {
     "name": "stdout",
     "output_type": "stream",
     "text": [
      "['Inglaterra', 'Japão', 'Panamá', 'Bolivia', 'Canadá', 'China', 'México']\n",
      "['China']\n"
     ]
    }
   ],
   "source": [
    "'''\n",
    "3)\n",
    "a)Adicione nessa lista o país Inglaterra como primeira\n",
    "viagem.\n",
    "b) Exclua Argentina do roteiro de viagem.\n",
    "c) Adicione México nas viagens\n",
    "viagem = ['Japão', 'Panamá', 'Argentina', 'Bolivia'\n",
    ",'Canadá', 'China']\n",
    "d) Escolha um destino de forma aleatória\n",
    "\n",
    "'''\n",
    "\n",
    "import random\n",
    "viagem = ['Japão', 'Panamá', 'Argentina', 'Bolivia'\n",
    ",'Canadá', 'China']\n",
    "a = viagem.insert (0, 'Inglaterra')\n",
    "b = viagem.remove ('Argentina')\n",
    "c = viagem.append ('México')\n",
    "print(viagem)\n",
    "d = print(random.choices(viagem))\n"
   ]
  },
  {
   "cell_type": "code",
   "execution_count": 2,
   "metadata": {},
   "outputs": [
    {
     "name": "stdout",
     "output_type": "stream",
     "text": [
      "A média da turma é 39.5\n",
      "Reprovados: [0, 5, 4, 2, 6, 6, 5, 4]. Aprovados: [10, 10, 10, 9, 8] \n"
     ]
    }
   ],
   "source": [
    "'''\n",
    "4)\n",
    "Crie um programa que irá Informar a média da turma e a\n",
    "quantidade de notas menores ou igual a 7.\n",
    "Vão informar quantos estão reprovados e quantos estão aprovados\n",
    "notas = [0, 10, 10, 10, 9, 8, 5, 4, 2, 6, 6, 5, 4]\n",
    "'''\n",
    "\n",
    "notas = [0, 10, 10, 10, 9, 8, 5, 4, 2, 6, 6, 5, 4]\n",
    "média = sum(notas) / 2\n",
    "print(f'A média da turma é {média}')\n",
    "rep = []\n",
    "apr = []\n",
    "for nota in notas:\n",
    "  if nota < 7:\n",
    "    rep.append(nota)\n",
    "  else:\n",
    "      apr.append(nota)\n",
    "qnt_apr = len(apr)\n",
    "qnt_rep = len(rep)\n",
    "print(f'Reprovados: {rep}. Aprovados: {apr} ')\n"
   ]
  },
  {
   "cell_type": "code",
   "execution_count": 58,
   "metadata": {},
   "outputs": [
    {
     "name": "stdout",
     "output_type": "stream",
     "text": [
      "Hugo: 50\n",
      "Ignacio: 100\n",
      "Jony: 2\n",
      "Lion: 30\n",
      "Monica: 50\n",
      "Natalia: 3\n"
     ]
    }
   ],
   "source": [
    "'''\n",
    "5)\n",
    "vendedores = ['Hugo', 'Ignacio', 'Jony', 'Lion', 'Monica',\n",
    "'Natalia']\n",
    "vendas = [50, 100, 2, 30, 50, 3]\n",
    "Imprima os valores das listas da seguinte forma:\n",
    "Vendas por vendedores:\n",
    "------------------------\n",
    "Hugo: 50\n",
    "Ignacio: 100\n",
    "Jony: 2\n",
    "Lion: 30\n",
    "Monica: 50\n",
    "Natalia: 3\n",
    "'''\n",
    "\n",
    "vddrs = ['Hugo', 'Ignacio', 'Jony', 'Lion', 'Monica',\n",
    "'Natalia']\n",
    "vendas = [50, 100, 2, 30, 50, 3]\n",
    "for i, vendedor in enumerate(vddrs):\n",
    "    print(f'{vddrs[i]}: {vendas[i]}')\n"
   ]
  },
  {
   "cell_type": "code",
   "execution_count": 2,
   "metadata": {},
   "outputs": [
    {
     "name": "stdout",
     "output_type": "stream",
     "text": [
      "Alunos aprovados:\n",
      "Beltrano: 10\n",
      "Gerlano: 9\n",
      "Marlano: 8\n",
      "Alunos reprovados:\n",
      "Fulano: 0\n",
      "Cilano: 2\n",
      "Jesiano: 5\n"
     ]
    }
   ],
   "source": [
    "'''\n",
    "6) Crie um programa que informe o nome dos alunos\n",
    "aprovados, com suas respectivas notas e os reprovados.\n",
    "notas = [0, 2, 10, 9, 8, 5]\n",
    "alunos = ['Fulano', 'Cilano', 'Beltrano', 'Gerlano',\n",
    "'Marlano', 'Jesiano']\n",
    "'''\n",
    "\n",
    "notas = [0, 2, 10, 9, 8, 5]\n",
    "alunos = ['Fulano', 'Cilano', 'Beltrano', 'Gerlano', 'Marlano', 'Jesiano']\n",
    "rep = []\n",
    "apr = []\n",
    "for aluno, nota in zip(alunos, notas):\n",
    "    if nota >= 6:\n",
    "        apr.append((aluno, nota))\n",
    "    else:\n",
    "        rep.append((aluno, nota))\n",
    "print(\"Alunos aprovados:\")\n",
    "for aluno, nota in apr:\n",
    "    print(f\"{aluno}: {nota}\")\n",
    "print(\"Alunos reprovados:\")\n",
    "for aluno, nota in rep:\n",
    "    print(f\"{aluno}: {nota}\")\n"
   ]
  }
 ],
 "metadata": {
  "kernelspec": {
   "display_name": "Python 3",
   "language": "python",
   "name": "python3"
  },
  "language_info": {
   "codemirror_mode": {
    "name": "ipython",
    "version": 3
   },
   "file_extension": ".py",
   "mimetype": "text/x-python",
   "name": "python",
   "nbconvert_exporter": "python",
   "pygments_lexer": "ipython3",
   "version": "3.12.2"
  }
 },
 "nbformat": 4,
 "nbformat_minor": 2
}
